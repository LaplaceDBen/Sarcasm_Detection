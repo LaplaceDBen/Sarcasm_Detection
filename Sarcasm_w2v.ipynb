{
 "cells": [
  {
   "attachments": {},
   "cell_type": "markdown",
   "metadata": {},
   "source": [
    "## Word2Vec Approach"
   ]
  },
  {
   "cell_type": "code",
   "execution_count": 26,
   "metadata": {},
   "outputs": [],
   "source": [
    "import pandas as pd, numpy as np, matplotlib.pyplot as plt, seaborn as sns, \\\n",
    "    nltk, collections, keras, lightgbm as lgb\n",
    "from nltk.corpus import stopwords\n",
    "from nltk.stem import PorterStemmer, WordNetLemmatizer\n",
    "from nltk.tokenize import word_tokenize\n",
    "from wordcloud import WordCloud\n",
    "from keras.preprocessing.text import Tokenizer\n",
    "from tensorflow.keras.preprocessing.sequence import pad_sequences\n",
    "from keras.models import Sequential\n",
    "from keras.layers import Embedding, LSTM, Dense, Dropout,Conv1D, GlobalMaxPooling1D, MaxPooling1D, Bidirectional, GRU\n",
    "from sklearn.model_selection import train_test_split, cross_validate\n",
    "from sklearn.metrics import confusion_matrix, accuracy_score, classification_report, roc_auc_score, roc_curve\n",
    "from sklearn.feature_extraction.text import CountVectorizer, TfidfVectorizer\n",
    "from sklearn.naive_bayes import MultinomialNB, GaussianNB\n",
    "\n",
    "import gensim\n",
    "import re,string,unicodedata\n",
    "from string import punctuation\n",
    "from bs4 import BeautifulSoup\n",
    "from keras.preprocessing import text, sequence\n",
    "from keras.layers import Dense,Embedding,LSTM,Dropout,Bidirectional,GRU"
   ]
  },
  {
   "cell_type": "code",
   "execution_count": 27,
   "metadata": {},
   "outputs": [],
   "source": [
    "df = pd.read_json('Sarcasm_Headlines_Dataset_v2.json', lines=True)\n",
    "\n",
    "#remove Stopwords\n",
    "stop = set(stopwords.words('english'))\n",
    "punctuation = list(string.punctuation)\n",
    "stop.update(punctuation)"
   ]
  },
  {
   "cell_type": "code",
   "execution_count": 28,
   "metadata": {},
   "outputs": [
    {
     "name": "stderr",
     "output_type": "stream",
     "text": [
      "c:\\Users\\benit\\anaconda3\\envs\\NLP\\lib\\site-packages\\bs4\\__init__.py:435: MarkupResemblesLocatorWarning: The input looks more like a filename than markup. You may want to open this file and pass the filehandle into Beautiful Soup.\n",
      "  warnings.warn(\n"
     ]
    }
   ],
   "source": [
    "#kudos https://www.kaggle.com/code/madz2000/sarcasm-detection-with-glove-word2vec-83-accuracy#LOADING-THE-DATASET\n",
    "#remove square brackets, URLs and Noise\n",
    "\n",
    "def strip_html(text):\n",
    "    soup = BeautifulSoup(text, \"html.parser\")\n",
    "    return soup.get_text()\n",
    "\n",
    "#Removing the square brackets\n",
    "def remove_between_square_brackets(text):\n",
    "    return re.sub('\\[[^]]*\\]', '', text)\n",
    "# Removing URL's\n",
    "def remove_between_square_brackets(text):\n",
    "    return re.sub(r'http\\S+', '', text)\n",
    "#Removing the stopwords from text\n",
    "def remove_stopwords(text):\n",
    "    final_text = []\n",
    "    for i in text.split():\n",
    "        if i.strip().lower() not in stop:\n",
    "            final_text.append(i.strip())\n",
    "    return \" \".join(final_text)\n",
    "#Removing the noisy text\n",
    "def denoise_text(text):\n",
    "    text = strip_html(text)\n",
    "    text = remove_between_square_brackets(text)\n",
    "    text = remove_stopwords(text)\n",
    "    return text\n",
    "#Apply function on review column\n",
    "df['headline']=df['headline'].apply(denoise_text)"
   ]
  },
  {
   "cell_type": "code",
   "execution_count": 29,
   "metadata": {},
   "outputs": [
    {
     "data": {
      "text/plain": [
       "[['thirtysomething',\n",
       "  'scientists',\n",
       "  'unveil',\n",
       "  'doomsday',\n",
       "  'clock',\n",
       "  'hair',\n",
       "  'loss'],\n",
       " ['dem',\n",
       "  'rep.',\n",
       "  'totally',\n",
       "  'nails',\n",
       "  'congress',\n",
       "  'falling',\n",
       "  'short',\n",
       "  'gender,',\n",
       "  'racial',\n",
       "  'equality'],\n",
       " ['eat', 'veggies:', '9', 'deliciously', 'different', 'recipes'],\n",
       " ['inclement', 'weather', 'prevents', 'liar', 'getting', 'work'],\n",
       " ['mother',\n",
       "  'comes',\n",
       "  'pretty',\n",
       "  'close',\n",
       "  'using',\n",
       "  'word',\n",
       "  \"'streaming'\",\n",
       "  'correctly']]"
      ]
     },
     "execution_count": 29,
     "metadata": {},
     "output_type": "execute_result"
    }
   ],
   "source": [
    "#converting text to format acceptable by gensim\n",
    "\n",
    "words = []\n",
    "for i in df.headline.values:\n",
    "    words.append(i.split())\n",
    "words[:5]"
   ]
  },
  {
   "cell_type": "code",
   "execution_count": 30,
   "metadata": {},
   "outputs": [],
   "source": [
    "\n",
    "#Dimension of vectors we are generating\n",
    "EMBEDDING_DIM = 100\n",
    "\n",
    "#Creating Word Vectors by Word2Vec Method (takes time...)\n",
    "w2v_model = gensim.models.Word2Vec(sentences = words, window = 5, min_count = 1)\n"
   ]
  },
  {
   "cell_type": "code",
   "execution_count": 31,
   "metadata": {},
   "outputs": [
    {
     "data": {
      "text/plain": [
       "(38071, 100)"
      ]
     },
     "execution_count": 31,
     "metadata": {},
     "output_type": "execute_result"
    }
   ],
   "source": [
    "#get w2v_model vocabulary size\n",
    "w2v_model.wv.vectors.shape\n"
   ]
  },
  {
   "cell_type": "code",
   "execution_count": 32,
   "metadata": {},
   "outputs": [],
   "source": [
    "tokenizer = text.Tokenizer(num_words=35000)\n",
    "tokenizer.fit_on_texts(words)\n",
    "tokenized_train = tokenizer.texts_to_sequences(words)\n",
    "#x = sequence.pad_sequences(tokenized_train, maxlen = 20)\n",
    "sequences = tokenizer.texts_to_sequences(words)\n",
    "#help from CHTGPT\n",
    "padded_sequences = pad_sequences(sequences, maxlen=20)\n",
    "vocab_size = len(tokenizer.word_index) + 1"
   ]
  },
  {
   "cell_type": "code",
   "execution_count": 33,
   "metadata": {},
   "outputs": [],
   "source": [
    "# Function to create weight matrix from word2vec gensim model\n",
    "def get_weight_matrix(model, vocab):\n",
    "    # total vocabulary size plus 0 for unknown words\n",
    "    vocab_size = len(vocab) + 1\n",
    "    # define weight matrix dimensions with all 0\n",
    "    weight_matrix = np.zeros((vocab_size, EMBEDDING_DIM))\n",
    "    # step vocab, store vectors using the Tokenizer's integer mapping\n",
    "    for word, i in vocab.items():\n",
    "        weight_matrix[i] = model.wv[word]\n",
    "    return weight_matrix"
   ]
  },
  {
   "cell_type": "code",
<<<<<<< HEAD
   "execution_count": 32,
=======
   "execution_count": 34,
>>>>>>> 8a8ad9b6248b48bcdb7ebea65fa889e30f298c5d
   "metadata": {},
   "outputs": [],
   "source": [
    "#Getting embedding vectors from word2vec and usings it as weights of non-trainable keras embedding layer\n",
    "embedding_vectors = get_weight_matrix(w2v_model, tokenizer.word_index)"
   ]
  },
  {
   "attachments": {},
   "cell_type": "markdown",
   "metadata": {},
   "source": [
    "### Training Word2Vec model"
   ]
  },
  {
   "cell_type": "code",
<<<<<<< HEAD
   "execution_count": 33,
=======
   "execution_count": 35,
>>>>>>> 8a8ad9b6248b48bcdb7ebea65fa889e30f298c5d
   "metadata": {},
   "outputs": [
    {
     "name": "stderr",
     "output_type": "stream",
     "text": [
      "c:\\Users\\benit\\anaconda3\\envs\\NLP\\lib\\site-packages\\keras\\optimizers\\optimizer_v2\\adam.py:114: UserWarning: The `lr` argument is deprecated, use `learning_rate` instead.\n",
      "  super().__init__(name, **kwargs)\n"
     ]
    }
   ],
   "source": [
    "#Defining Neural Network\n",
    "model = Sequential()\n",
    "#Non-trainable embeddidng layer\n",
    "model.add(Embedding(vocab_size, output_dim=100, weights=[embedding_vectors], input_length=20, trainable=True))\n",
    "#LSTM \n",
    "model.add(Bidirectional(LSTM(units=8 , recurrent_dropout = 0.3 , dropout = 0.3,return_sequences = True)))\n",
    "model.add(Bidirectional(GRU(units=4 , recurrent_dropout = 0.3 , dropout = 0.1)))\n",
    "model.add(Dense(1, activation='sigmoid'))\n",
    "model.compile(optimizer=keras.optimizers.Adam(lr = 0.0001), loss='binary_crossentropy', metrics=['acc'])\n",
    "\n",
    "del embedding_vectors"
   ]
  },
  {
   "cell_type": "code",
<<<<<<< HEAD
   "execution_count": 34,
=======
   "execution_count": 36,
>>>>>>> 8a8ad9b6248b48bcdb7ebea65fa889e30f298c5d
   "metadata": {},
   "outputs": [
    {
     "name": "stdout",
     "output_type": "stream",
     "text": [
      "Model: \"sequential_3\"\n",
      "_________________________________________________________________\n",
      " Layer (type)                Output Shape              Param #   \n",
      "=================================================================\n",
      " embedding_2 (Embedding)     (None, 20, 100)           3807200   \n",
      "                                                                 \n",
<<<<<<< HEAD
      " bidirectional_2 (Bidirectio  (None, 20, 256)          234496    \n",
      " nal)                                                            \n",
      "                                                                 \n",
      " bidirectional_3 (Bidirectio  (None, 64)               55680     \n",
      " nal)                                                            \n",
      "                                                                 \n",
      " dense_1 (Dense)             (None, 1)                 65        \n",
=======
      " bidirectional_2 (Bidirectio  (None, 20, 16)           6976      \n",
      " nal)                                                            \n",
      "                                                                 \n",
      " bidirectional_3 (Bidirectio  (None, 8)                528       \n",
      " nal)                                                            \n",
      "                                                                 \n",
      " dense_1 (Dense)             (None, 1)                 9         \n",
>>>>>>> 8a8ad9b6248b48bcdb7ebea65fa889e30f298c5d
      "                                                                 \n",
      "=================================================================\n",
      "Total params: 3,814,713\n",
      "Trainable params: 3,814,713\n",
      "Non-trainable params: 0\n",
      "_________________________________________________________________\n"
     ]
    }
   ],
   "source": [
    "model.summary()"
   ]
  },
  {
   "cell_type": "code",
<<<<<<< HEAD
   "execution_count": 35,
   "metadata": {},
   "outputs": [],
   "source": [
    "x_train, x_test, y_train, y_test = train_test_split(padded_sequences, df.is_sarcastic , test_size = 0.3 , random_state = 0) "
   ]
  },
  {
   "cell_type": "code",
   "execution_count": 36,
=======
   "execution_count": 37,
>>>>>>> 8a8ad9b6248b48bcdb7ebea65fa889e30f298c5d
   "metadata": {},
   "outputs": [
    {
     "name": "stdout",
     "output_type": "stream",
     "text": [
<<<<<<< HEAD
      "Epoch 1/3\n",
      "157/157 [==============================] - 45s 231ms/step - loss: 0.5182 - acc: 0.7258 - val_loss: 0.4076 - val_acc: 0.8120\n",
      "Epoch 2/3\n",
      "157/157 [==============================] - 32s 203ms/step - loss: 0.1566 - acc: 0.9407 - val_loss: 0.4881 - val_acc: 0.8018\n",
      "Epoch 3/3\n",
      "157/157 [==============================] - 34s 218ms/step - loss: 0.0382 - acc: 0.9878 - val_loss: 0.7659 - val_acc: 0.7897\n"
=======
      "(17171, 20) (17171,)\n",
      "(5724, 20) (5724,)\n",
      "(5724, 20) (5724,)\n"
>>>>>>> 8a8ad9b6248b48bcdb7ebea65fa889e30f298c5d
     ]
    }
   ],
   "source": [
    "x_train, x_test, y_train, y_test = train_test_split(padded_sequences, df.is_sarcastic , test_size = 0.2 , random_state = 0) \n",
    "#validation set\n",
    "x_train, x_val, y_train, y_val = train_test_split(x_train, y_train, test_size = 0.25 , random_state = 0)\n",
    "print(x_train.shape,y_train.shape)\n",
    "print(x_val.shape,y_val.shape)\n",
    "print(x_test.shape,y_test.shape)"
   ]
  },
  {
   "cell_type": "code",
   "execution_count": 38,
   "metadata": {},
   "outputs": [],
   "source": [
    "#ealry stopping\n",
    "from keras.callbacks import EarlyStopping\n",
    "early_stopping = EarlyStopping(monitor='val_loss', patience=10)\n"
   ]
  },
  {
   "cell_type": "code",
   "execution_count": 39,
   "metadata": {},
   "outputs": [
    {
     "name": "stdout",
     "output_type": "stream",
     "text": [
      "Epoch 1/200\n",
      "17/17 [==============================] - 28s 786ms/step - loss: 0.6938 - acc: 0.5241 - val_loss: 0.6927 - val_acc: 0.5241\n",
      "Epoch 2/200\n",
      "17/17 [==============================] - 13s 769ms/step - loss: 0.6919 - acc: 0.5288 - val_loss: 0.6906 - val_acc: 0.5311\n",
      "Epoch 3/200\n",
      "17/17 [==============================] - 12s 688ms/step - loss: 0.6900 - acc: 0.5515 - val_loss: 0.6889 - val_acc: 0.5484\n",
      "Epoch 4/200\n",
      "17/17 [==============================] - 11s 619ms/step - loss: 0.6880 - acc: 0.5629 - val_loss: 0.6871 - val_acc: 0.5742\n",
      "Epoch 5/200\n",
      "17/17 [==============================] - 9s 536ms/step - loss: 0.6860 - acc: 0.5759 - val_loss: 0.6852 - val_acc: 0.5856\n",
      "Epoch 6/200\n",
      "17/17 [==============================] - 10s 586ms/step - loss: 0.6836 - acc: 0.5902 - val_loss: 0.6830 - val_acc: 0.6060\n",
      "Epoch 7/200\n",
      "17/17 [==============================] - 10s 593ms/step - loss: 0.6814 - acc: 0.6015 - val_loss: 0.6807 - val_acc: 0.6176\n",
      "Epoch 8/200\n",
      "17/17 [==============================] - 12s 720ms/step - loss: 0.6784 - acc: 0.6045 - val_loss: 0.6780 - val_acc: 0.6219\n",
      "Epoch 9/200\n",
      "17/17 [==============================] - 9s 513ms/step - loss: 0.6750 - acc: 0.6152 - val_loss: 0.6750 - val_acc: 0.6312\n",
      "Epoch 10/200\n",
      "17/17 [==============================] - 9s 498ms/step - loss: 0.6714 - acc: 0.6285 - val_loss: 0.6718 - val_acc: 0.6296\n",
      "Epoch 11/200\n",
      "17/17 [==============================] - 9s 521ms/step - loss: 0.6673 - acc: 0.6356 - val_loss: 0.6681 - val_acc: 0.6326\n",
      "Epoch 12/200\n",
      "17/17 [==============================] - 18s 1s/step - loss: 0.6633 - acc: 0.6370 - val_loss: 0.6641 - val_acc: 0.6371\n",
      "Epoch 13/200\n",
      "17/17 [==============================] - 10s 539ms/step - loss: 0.6581 - acc: 0.6466 - val_loss: 0.6596 - val_acc: 0.6438\n",
      "Epoch 14/200\n",
      "17/17 [==============================] - 9s 523ms/step - loss: 0.6530 - acc: 0.6496 - val_loss: 0.6545 - val_acc: 0.6508\n",
      "Epoch 15/200\n",
      "17/17 [==============================] - 8s 447ms/step - loss: 0.6467 - acc: 0.6585 - val_loss: 0.6489 - val_acc: 0.6604\n",
      "Epoch 16/200\n",
      "17/17 [==============================] - 8s 463ms/step - loss: 0.6384 - acc: 0.6734 - val_loss: 0.6425 - val_acc: 0.6672\n",
      "Epoch 17/200\n",
      "17/17 [==============================] - 11s 622ms/step - loss: 0.6295 - acc: 0.6853 - val_loss: 0.6347 - val_acc: 0.6785\n",
      "Epoch 18/200\n",
      "17/17 [==============================] - 10s 595ms/step - loss: 0.6210 - acc: 0.7007 - val_loss: 0.6264 - val_acc: 0.6880\n",
      "Epoch 19/200\n",
      "17/17 [==============================] - 9s 528ms/step - loss: 0.6104 - acc: 0.7139 - val_loss: 0.6171 - val_acc: 0.7016\n",
      "Epoch 20/200\n",
      "17/17 [==============================] - 9s 519ms/step - loss: 0.5983 - acc: 0.7330 - val_loss: 0.6061 - val_acc: 0.7151\n",
      "Epoch 21/200\n",
      "17/17 [==============================] - 9s 552ms/step - loss: 0.5841 - acc: 0.7506 - val_loss: 0.5952 - val_acc: 0.7257\n",
      "Epoch 22/200\n",
      "17/17 [==============================] - 11s 645ms/step - loss: 0.5705 - acc: 0.7642 - val_loss: 0.5832 - val_acc: 0.7367\n",
      "Epoch 23/200\n",
      "17/17 [==============================] - 10s 602ms/step - loss: 0.5543 - acc: 0.7850 - val_loss: 0.5695 - val_acc: 0.7467\n",
      "Epoch 24/200\n",
      "17/17 [==============================] - 8s 486ms/step - loss: 0.5382 - acc: 0.8029 - val_loss: 0.5571 - val_acc: 0.7594\n",
      "Epoch 25/200\n",
      "17/17 [==============================] - 9s 526ms/step - loss: 0.5199 - acc: 0.8192 - val_loss: 0.5436 - val_acc: 0.7669\n",
      "Epoch 26/200\n",
      "17/17 [==============================] - 11s 670ms/step - loss: 0.5003 - acc: 0.8326 - val_loss: 0.5303 - val_acc: 0.7745\n",
      "Epoch 27/200\n",
      "17/17 [==============================] - 9s 563ms/step - loss: 0.4821 - acc: 0.8451 - val_loss: 0.5178 - val_acc: 0.7816\n",
      "Epoch 28/200\n",
      "17/17 [==============================] - 11s 638ms/step - loss: 0.4613 - acc: 0.8543 - val_loss: 0.5036 - val_acc: 0.7874\n",
      "Epoch 29/200\n",
      "17/17 [==============================] - 10s 590ms/step - loss: 0.4404 - acc: 0.8631 - val_loss: 0.4904 - val_acc: 0.7907\n",
      "Epoch 30/200\n",
      "17/17 [==============================] - 8s 445ms/step - loss: 0.4192 - acc: 0.8728 - val_loss: 0.4782 - val_acc: 0.7977\n",
      "Epoch 31/200\n",
      "17/17 [==============================] - 11s 615ms/step - loss: 0.3975 - acc: 0.8820 - val_loss: 0.4650 - val_acc: 0.8001\n",
      "Epoch 32/200\n",
      "17/17 [==============================] - 11s 672ms/step - loss: 0.3728 - acc: 0.8922 - val_loss: 0.4544 - val_acc: 0.8014\n",
      "Epoch 33/200\n",
      "17/17 [==============================] - 9s 545ms/step - loss: 0.3536 - acc: 0.8969 - val_loss: 0.4460 - val_acc: 0.8040\n",
      "Epoch 34/200\n",
      "17/17 [==============================] - 10s 627ms/step - loss: 0.3348 - acc: 0.9030 - val_loss: 0.4388 - val_acc: 0.8075\n",
      "Epoch 35/200\n",
      "17/17 [==============================] - 9s 520ms/step - loss: 0.3167 - acc: 0.9064 - val_loss: 0.4326 - val_acc: 0.8068\n",
      "Epoch 36/200\n",
      "17/17 [==============================] - 9s 542ms/step - loss: 0.3001 - acc: 0.9117 - val_loss: 0.4278 - val_acc: 0.8110\n",
      "Epoch 37/200\n",
      "17/17 [==============================] - 9s 547ms/step - loss: 0.2857 - acc: 0.9174 - val_loss: 0.4244 - val_acc: 0.8127\n",
      "Epoch 38/200\n",
      "17/17 [==============================] - 12s 673ms/step - loss: 0.2686 - acc: 0.9239 - val_loss: 0.4218 - val_acc: 0.8131\n",
      "Epoch 39/200\n",
      "17/17 [==============================] - 12s 706ms/step - loss: 0.2561 - acc: 0.9275 - val_loss: 0.4198 - val_acc: 0.8110\n",
      "Epoch 40/200\n",
      "17/17 [==============================] - 12s 705ms/step - loss: 0.2417 - acc: 0.9338 - val_loss: 0.4222 - val_acc: 0.8129\n",
      "Epoch 41/200\n",
      "17/17 [==============================] - 10s 565ms/step - loss: 0.2304 - acc: 0.9391 - val_loss: 0.4223 - val_acc: 0.8136\n",
      "Epoch 42/200\n",
      "17/17 [==============================] - 13s 812ms/step - loss: 0.2220 - acc: 0.9407 - val_loss: 0.4176 - val_acc: 0.8136\n",
      "Epoch 43/200\n",
      "17/17 [==============================] - 8s 487ms/step - loss: 0.2109 - acc: 0.9450 - val_loss: 0.4178 - val_acc: 0.8132\n",
      "Epoch 44/200\n",
      "17/17 [==============================] - 11s 687ms/step - loss: 0.2007 - acc: 0.9495 - val_loss: 0.4196 - val_acc: 0.8141\n",
      "Epoch 45/200\n",
      "17/17 [==============================] - 10s 587ms/step - loss: 0.1891 - acc: 0.9537 - val_loss: 0.4213 - val_acc: 0.8134\n",
      "Epoch 46/200\n",
      "17/17 [==============================] - 11s 568ms/step - loss: 0.1843 - acc: 0.9555 - val_loss: 0.4218 - val_acc: 0.8117\n",
      "Epoch 47/200\n",
      "17/17 [==============================] - 9s 523ms/step - loss: 0.1745 - acc: 0.9581 - val_loss: 0.4241 - val_acc: 0.8115\n",
      "Epoch 48/200\n",
      "17/17 [==============================] - 10s 602ms/step - loss: 0.1681 - acc: 0.9614 - val_loss: 0.4261 - val_acc: 0.8094\n",
      "Epoch 49/200\n",
      "17/17 [==============================] - 13s 776ms/step - loss: 0.1598 - acc: 0.9642 - val_loss: 0.4270 - val_acc: 0.8090\n",
      "Epoch 50/200\n",
      "17/17 [==============================] - 9s 539ms/step - loss: 0.1535 - acc: 0.9665 - val_loss: 0.4298 - val_acc: 0.8104\n",
      "Epoch 51/200\n",
      "17/17 [==============================] - 11s 651ms/step - loss: 0.1510 - acc: 0.9665 - val_loss: 0.4345 - val_acc: 0.8092\n",
      "Epoch 52/200\n",
      "17/17 [==============================] - 8s 460ms/step - loss: 0.1434 - acc: 0.9673 - val_loss: 0.4381 - val_acc: 0.8089\n"
     ]
    }
   ],
   "source": [
    "history = model.fit(x_train, y_train, batch_size = 1028 , validation_data = (x_val,y_val) , epochs = 200, callbacks=[early_stopping])"
   ]
  },
  {
   "cell_type": "code",
   "execution_count": 40,
   "metadata": {},
   "outputs": [
    {
     "data": {
      "image/png": "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",
      "text/plain": [
       "<Figure size 640x480 with 1 Axes>"
      ]
     },
     "metadata": {},
     "output_type": "display_data"
    }
   ],
   "source": [
    "#plot history\n",
    "plt.plot(history.history['loss'], label='train')\n",
    "plt.plot(history.history['val_loss'], label='validation')\n",
    "plt.title('Accuracy_Loss')\n",
    "plt.legend()\n",
    "plt.show()\n"
   ]
  },
  {
   "cell_type": "code",
   "execution_count": 41,
   "metadata": {},
   "outputs": [
    {
     "data": {
      "image/png": "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",
      "text/plain": [
       "<Figure size 640x480 with 1 Axes>"
      ]
     },
     "metadata": {},
     "output_type": "display_data"
    }
   ],
   "source": [
    "#plot accuracy\n",
    "plt.plot(history.history['acc'], label='train')\n",
    "plt.plot(history.history['val_acc'], label='validation')\n",
    "plt.title('Accuracy')\n",
    "plt.legend()\n",
    "plt.show()"
   ]
  },
  {
   "cell_type": "code",
   "execution_count": 42,
   "metadata": {},
   "outputs": [
    {
     "name": "stdout",
     "output_type": "stream",
     "text": [
      "537/537 [==============================] - 8s 15ms/step - loss: 0.1062 - acc: 0.9825\n",
      "Accuracy of the model on Training Data is -  98.2470452785492\n",
      "179/179 [==============================] - 3s 15ms/step - loss: 0.4381 - acc: 0.8089\n",
      "Accuracy of the model on Validation Data is -  80.88749051094055\n",
      "179/179 [==============================] - 3s 15ms/step - loss: 0.4527 - acc: 0.7996\n",
      "Accuracy of the model on Testing Data is -  79.96156811714172\n"
     ]
    }
   ],
   "source": [
    "print(\"Accuracy of the model on Training Data is - \" , model.evaluate(x_train,y_train)[1]*100)\n",
    "print(\"Accuracy of the model on Validation Data is - \" , model.evaluate(x_val,y_val)[1]*100)\n",
    "print(\"Accuracy of the model on Testing Data is - \" , model.evaluate(x_test,y_test)[1]*100)"
   ]
  },
  {
   "cell_type": "code",
   "execution_count": 43,
   "metadata": {},
   "outputs": [
    {
     "name": "stdout",
     "output_type": "stream",
     "text": [
      "Accuracy of the model on Training Data is -  56.32170520062897 %\n",
      "Accuracy of the model on Testing Data is -  56.53389238294899 %\n"
     ]
    }
   ],
   "source": [
    "#train naive bayes model\n",
    "nb = MultinomialNB()\n",
    "nb.fit(x_train, y_train)\n",
    "y_pred = nb.predict(x_test)\n",
    "print(\"Accuracy of the model on Training Data is - \" , accuracy_score(y_train, nb.predict(x_train))*100,\"%\")\n",
    "\n",
    "#test accuracy_score\n",
    "print(\"Accuracy of the model on Testing Data is - \" , accuracy_score(y_test, y_pred)*100,\"%\")\n",
    "\n",
    "\n"
   ]
  }
 ],
 "metadata": {
  "kernelspec": {
   "display_name": "tf",
   "language": "python",
   "name": "python3"
  },
  "language_info": {
   "codemirror_mode": {
    "name": "ipython",
    "version": 3
   },
   "file_extension": ".py",
   "mimetype": "text/x-python",
   "name": "python",
   "nbconvert_exporter": "python",
   "pygments_lexer": "ipython3",
   "version": "3.10.10"
  },
  "orig_nbformat": 4
 },
 "nbformat": 4,
 "nbformat_minor": 2
}
