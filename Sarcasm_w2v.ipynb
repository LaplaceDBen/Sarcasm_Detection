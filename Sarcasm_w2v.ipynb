{
 "cells": [
  {
   "attachments": {},
   "cell_type": "markdown",
   "metadata": {},
   "source": [
    "## Word2Vec Approach"
   ]
  },
  {
   "cell_type": "code",
   "execution_count": 45,
   "metadata": {},
   "outputs": [
    {
     "name": "stderr",
     "output_type": "stream",
     "text": [
      "[nltk_data] Downloading package stopwords to\n",
      "[nltk_data]     C:\\Users\\benit\\AppData\\Roaming\\nltk_data...\n",
      "[nltk_data]   Package stopwords is already up-to-date!\n"
     ]
    },
    {
     "data": {
      "text/plain": [
       "True"
      ]
     },
     "execution_count": 45,
     "metadata": {},
     "output_type": "execute_result"
    }
   ],
   "source": [
    "\n",
    "import collections\n",
    "import re\n",
    "import string\n",
    "import unicodedata\n",
    "import csv\n",
    "import random\n",
    "import json\n",
    "\n",
    "\n",
    "import gensim\n",
    "import keras_tuner\n",
    "import matplotlib.pyplot as plt\n",
    "import nltk\n",
    "import numpy as np\n",
    "import pandas as pd\n",
    "import seaborn as sns\n",
    "import tensorflow as tf\n",
    "from bs4 import BeautifulSoup\n",
    "from gensim.models import Word2Vec\n",
    "from keras.activations import relu, tanh, sigmoid, linear, gelu\n",
    "from keras.layers import (Bidirectional, Dense, Dropout, Embedding, GRU, LSTM,\n",
    "RNN)\n",
    "from keras.models import Sequential\n",
    "from keras.preprocessing import sequence, text\n",
    "from keras.wrappers.scikit_learn import KerasClassifier\n",
    "from kerastuner.tuners import RandomSearch\n",
    "from kerastuner.engine.hyperparameters import HyperParameters\n",
    "from lightgbm import LGBMClassifier\n",
    "from nltk.corpus import stopwords\n",
    "from nltk.stem import PorterStemmer, WordNetLemmatizer\n",
    "from nltk.tokenize import word_tokenize\n",
    "from sklearn.ensemble import (AdaBoostClassifier, BaggingClassifier,\n",
    "ExtraTreesClassifier, GradientBoostingClassifier,\n",
    "RandomForestClassifier)\n",
    "from sklearn.feature_extraction.text import CountVectorizer, TfidfVectorizer\n",
    "from sklearn.linear_model import LogisticRegression, PassiveAggressiveClassifier, RidgeClassifier\n",
    "from sklearn.metrics import accuracy_score, classification_report,confusion_matrix, roc_auc_score, roc_curve\n",
    "from sklearn.model_selection import KFold\n",
    "from sklearn.model_selection import cross_val_score\n",
    "from sklearn.model_selection import cross_val_predict\n",
    "\n",
    "from sklearn.model_selection import RandomizedSearchCV, cross_validate, train_test_split\n",
    "from sklearn.naive_bayes import GaussianNB, MultinomialNB, BernoulliNB, ComplementNB, CategoricalNB\n",
    "from sklearn.neural_network import MLPClassifier\n",
    "from sklearn.svm import SVC, NuSVC\n",
    "from sklearn.tree import DecisionTreeClassifier\n",
    "from tensorflow import keras\n",
    "from tensorflow.keras import layers\n",
    "from tensorflow.keras.preprocessing.sequence import pad_sequences\n",
    "from xgboost import XGBClassifier\n",
    "from sklearn.svm import LinearSVC, SVC, NuSVC, OneClassSVM\n",
    "from sklearn.feature_extraction.text import TfidfVectorizer, CountVectorizer\n",
    "from sklearn.metrics import confusion_matrix, classification_report\n",
    "from sklearn.metrics import accuracy_score, f1_score, precision_score, recall_score, classification_report, confusion_matrix\n",
    "from sklearn.discriminant_analysis import QuadraticDiscriminantAnalysis\n",
    "from sklearn.gaussian_process import GaussianProcessClassifier\n",
    "from sklearn.gaussian_process.kernels import RBF\n",
    "\n",
    "nltk.download('stopwords')"
   ]
  },
  {
   "attachments": {},
   "cell_type": "markdown",
   "metadata": {},
   "source": [
    "## Preprocessing"
   ]
  },
  {
   "cell_type": "code",
   "execution_count": 46,
   "metadata": {},
   "outputs": [
    {
     "name": "stdout",
     "output_type": "stream",
     "text": [
      "7302     151\n",
      "24815     39\n",
      "Name: headline, dtype: int64\n",
      "24815    39\n",
      "23598    38\n",
      "Name: headline, dtype: int64\n"
     ]
    }
   ],
   "source": [
    "df = pd.read_json('Sarcasm_Headlines_Dataset_v2.json', lines=True)\n",
    "#article URLs not needed\n",
    "df.drop(columns=['article_link'], inplace=True)\n",
    "df.drop_duplicates(inplace=True)\n",
    "df.dropna(inplace=True)\n",
    "#display line with most words\n",
    "print(df['headline'].str.split().apply(len).sort_values(ascending=False).head(2))\n",
    "#delete headlines with more than 40 words\n",
    "df = df[df['headline'].str.split().apply(len) < 40]\n",
    "#remove Stopwords\n",
    "stop = set(stopwords.words('english'))\n",
    "punctuation = list(string.punctuation)\n",
    "stop.update(punctuation)\n",
    "\n",
    "print(df['headline'].str.split().apply(len).sort_values(ascending=False).head(2))\n",
    "#applay length of longest headline a variable\n",
    "max_len = df['headline'].str.split().apply(len).sort_values(ascending=False).head(1).values[0]"
   ]
  },
  {
   "cell_type": "code",
   "execution_count": 47,
   "metadata": {},
   "outputs": [
    {
     "name": "stdout",
     "output_type": "stream",
     "text": [
      "38212\n"
     ]
    }
   ],
   "source": [
    "df.head()\n",
    "#get number of diffrent words in headlines\n",
    "words = []\n",
    "for headline in df['headline']:\n",
    "    for word in headline.split():\n",
    "        words.append(word)\n",
    "print(len(set(words)))\n"
   ]
  },
  {
   "cell_type": "code",
   "execution_count": 48,
   "metadata": {},
   "outputs": [
    {
     "name": "stderr",
     "output_type": "stream",
     "text": [
      "c:\\Users\\benit\\anaconda3\\envs\\NLP\\lib\\site-packages\\bs4\\__init__.py:435: MarkupResemblesLocatorWarning: The input looks more like a filename than markup. You may want to open this file and pass the filehandle into Beautiful Soup.\n",
      "  warnings.warn(\n"
     ]
    }
   ],
   "source": [
    "#kudos https://www.kaggle.com/code/madz2000/sarcasm-detection-with-glove-word2vec-83-accuracy#LOADING-THE-DATASET\n",
    "#remove square brackets, URLs and Noise\n",
    "\n",
    "def strip_html(text):\n",
    "    soup = BeautifulSoup(text, \"html.parser\")\n",
    "    return soup.get_text()\n",
    "#Removing the square brackets\n",
    "def remove_between_square_brackets(text):\n",
    "    return re.sub('\\[[^]]*\\]', '', text)\n",
    "# Removing URL's\n",
    "def remove_between_square_brackets(text):\n",
    "    return re.sub(r'http\\S+', '', text)\n",
    "#Removing the stopwords from text\n",
    "def remove_stopwords(text):\n",
    "    final_text = []\n",
    "    for i in text.split():\n",
    "        if i.strip().lower() not in stop:\n",
    "            final_text.append(i.strip())\n",
    "    return \" \".join(final_text)\n",
    "#Removing numbers as it can cause additional noise\n",
    "def remove_numbers(text):\n",
    "    result = re.sub(r'\\d+', '', text)\n",
    "    return result\n",
    "\n",
    "#Removing the noisy text \n",
    "def denoise_text(text):\n",
    "    text = strip_html(text)\n",
    "    text = remove_between_square_brackets(text)\n",
    "    text = remove_stopwords(text)\n",
    "    text = remove_numbers(text)\n",
    "    return text\n",
    "#Apply function on review column\n",
    "df['headline']=df['headline'].apply(denoise_text)"
   ]
  },
  {
   "cell_type": "code",
   "execution_count": 49,
   "metadata": {},
   "outputs": [
    {
     "data": {
      "text/plain": [
       "[['thirtysomething',\n",
       "  'scientists',\n",
       "  'unveil',\n",
       "  'doomsday',\n",
       "  'clock',\n",
       "  'hair',\n",
       "  'loss'],\n",
       " ['dem',\n",
       "  'rep.',\n",
       "  'totally',\n",
       "  'nails',\n",
       "  'congress',\n",
       "  'falling',\n",
       "  'short',\n",
       "  'gender,',\n",
       "  'racial',\n",
       "  'equality'],\n",
       " ['eat', 'veggies:', 'deliciously', 'different', 'recipes'],\n",
       " ['inclement', 'weather', 'prevents', 'liar', 'getting', 'work'],\n",
       " ['mother',\n",
       "  'comes',\n",
       "  'pretty',\n",
       "  'close',\n",
       "  'using',\n",
       "  'word',\n",
       "  \"'streaming'\",\n",
       "  'correctly']]"
      ]
     },
     "execution_count": 49,
     "metadata": {},
     "output_type": "execute_result"
    }
   ],
   "source": [
    "#converting text to format acceptable by gensim\n",
    "\n",
    "words = []\n",
    "for i in df.headline.values:\n",
    "    words.append(i.split())\n",
    "words[:5]"
   ]
  },
  {
   "attachments": {},
   "cell_type": "markdown",
   "metadata": {},
   "source": [
    "# copy Dataset for ML "
   ]
  },
  {
   "cell_type": "code",
   "execution_count": 50,
   "metadata": {},
   "outputs": [],
   "source": [
    "#create a copy of the dataframe\n",
    "df_ml = df.copy()\n",
    "#train test split\n",
    "X_train_ml, X_test_ml, y_train_ml, y_test_ml = train_test_split(df_ml['headline'], df_ml['is_sarcastic'], test_size=0.25, random_state=42)\n",
    "#validation\n",
    "X_train_ml, X_val_ml, y_train_ml, y_val_ml = train_test_split(X_train_ml, y_train_ml, test_size=0.2, random_state=42)\n"
   ]
  },
  {
   "attachments": {},
   "cell_type": "markdown",
   "metadata": {},
   "source": [
    "# TFIDVecttorizer"
   ]
  },
  {
   "cell_type": "code",
   "execution_count": 51,
   "metadata": {},
   "outputs": [
    {
     "name": "stdout",
     "output_type": "stream",
     "text": [
      "(17100, 20490)\n",
      "(4276, 20490)\n",
      "(7126, 20490)\n"
     ]
    }
   ],
   "source": [
    "#https://www.kaggle.com/code/eisgandar/sarcastic-headlines-detector-lstm\n",
    "#diffrent vectorizers\n",
    "tf_idf_word_vectorizer = TfidfVectorizer(analyzer = \"word\")\n",
    "tf_idf_word_vectorizer.fit(X_train_ml)\n",
    "\n",
    "x_train_vec = tf_idf_word_vectorizer.transform(X_train_ml)\n",
    "x_val_vec = tf_idf_word_vectorizer.transform(X_val_ml)\n",
    "x_test_vec = tf_idf_word_vectorizer.transform(X_test_ml)\n",
    "\n",
    "#x_train_vec.toarray()\n",
    "\n",
    "print(x_train_vec.shape)\n",
    "print(x_val_vec.shape)\n",
    "print(x_test_vec.shape)\n"
   ]
  },
  {
   "cell_type": "code",
   "execution_count": 52,
   "metadata": {},
   "outputs": [],
   "source": [
    "from sklearn.feature_extraction.text import CountVectorizer\n",
    "\n",
    "vectorizer = CountVectorizer(binary=True)\n",
    "\n",
    "# Fit the vectorizer to the training data and transform both train and test data\n",
    "X_train_binary = vectorizer.fit_transform(X_train_ml).astype('float32')\n",
    "X_val_binary = vectorizer.transform(X_val_ml).astype('float32')\n",
    "X_test_binary = vectorizer.transform(X_test_ml).astype('float32')\n",
    "\n",
    "#The main advantage of using the binary vectorizer over the TF vectorizer is that it reduces the impact of features that occur frequently in the dataset"
   ]
  },
  {
   "attachments": {},
   "cell_type": "markdown",
   "metadata": {},
   "source": [
    "# Hashing"
   ]
  },
  {
   "cell_type": "code",
   "execution_count": 53,
   "metadata": {},
   "outputs": [],
   "source": [
    "# Define the vectorizers\n",
    "from sklearn.feature_extraction.text import HashingVectorizer\n",
    "from gensim.models import Word2Vec, Doc2Vec\n",
    "from gensim.models.doc2vec import TaggedDocument\n",
    "\n",
    "hashing_vectorizer = HashingVectorizer(binary=True)\n",
    "\n",
    "# Vectorize the data\n",
    "train_x_hashing = hashing_vectorizer.transform(X_train_ml)\n",
    "valid_x_hashing = hashing_vectorizer.transform(X_val_ml)\n",
    "test_x_hashing = hashing_vectorizer.transform(X_test_ml)"
   ]
  },
  {
   "attachments": {},
   "cell_type": "markdown",
   "metadata": {},
   "source": [
    "## Word2Vec Model"
   ]
  },
  {
   "cell_type": "code",
   "execution_count": 54,
   "metadata": {},
   "outputs": [
    {
     "data": {
      "text/plain": [
       "(37034, 100)"
      ]
     },
     "execution_count": 54,
     "metadata": {},
     "output_type": "execute_result"
    }
   ],
   "source": [
    "\n",
    "#Dimension of vectors we are generating\n",
    "EMBEDDING_DIM = 100\n",
    "\n",
    "#Creating Word Vectors by Word2Vec Method (takes time...)\n",
    "w2v_model = gensim.models.Word2Vec(sentences = words, window = 5, min_count = 1)\n",
    "w2v_model.wv.vectors.shape\n",
    "\n",
    "\n"
   ]
  },
  {
   "cell_type": "code",
   "execution_count": 55,
   "metadata": {},
   "outputs": [],
   "source": [
    "tokenizer = text.Tokenizer(num_words=40000)\n",
    "tokenizer.fit_on_texts(words)\n",
    "#tokenized_train = tokenizer.texts_to_sequences(words)\n",
    "#x = sequence.pad_sequences(tokenized_train, maxlen = 20)\n",
    "sequences = tokenizer.texts_to_sequences(words)\n",
    "#max_len changed to the longest headline\n",
    "padded_sequences = pad_sequences(sequences, maxlen=max_len)\n",
    "vocab_size = len(tokenizer.word_index) + 1"
   ]
  },
  {
   "cell_type": "code",
   "execution_count": 56,
   "metadata": {},
   "outputs": [
    {
     "data": {
      "text/plain": [
       "array([[    0,     0,     0, ...,  2307,   552,   930],\n",
       "       [    0,     0,     0, ..., 11228,  1972,  1787],\n",
       "       [    0,     0,     0, ..., 16405,   471,  1339],\n",
       "       ...,\n",
       "       [    0,     0,     0, ...,   942,   662,  1633],\n",
       "       [    0,     0,     0, ..., 37034,   811,  5884],\n",
       "       [    0,     0,     0, ...,  2940,   171,    92]])"
      ]
     },
     "execution_count": 56,
     "metadata": {},
     "output_type": "execute_result"
    }
   ],
   "source": [
    "padded_sequences"
   ]
  },
  {
   "cell_type": "code",
   "execution_count": 57,
   "metadata": {},
   "outputs": [],
   "source": [
    "# Function to create weight matrix from word2vec gensim model\n",
    "def get_weight_matrix(model, vocab):\n",
    "    # total vocabulary size plus 0 for unknown words\n",
    "    vocab_size = len(vocab) + 1\n",
    "    # define weight matrix dimensions with all 0\n",
    "    weight_matrix = np.zeros((vocab_size, EMBEDDING_DIM))\n",
    "    # step vocab, store vectors using the Tokenizer's integer mapping\n",
    "    for word, i in vocab.items():\n",
    "        weight_matrix[i] = model.wv[word]\n",
    "    return weight_matrix"
   ]
  },
  {
   "cell_type": "code",
   "execution_count": 58,
   "metadata": {},
   "outputs": [],
   "source": [
    "#Getting embedding vectors from word2vec and usings it as weights of non-trainable keras embedding layer\n",
    "embedding_vectors = get_weight_matrix(w2v_model, tokenizer.word_index)\n"
   ]
  },
  {
   "attachments": {},
   "cell_type": "markdown",
   "metadata": {},
   "source": [
    "### Training Word2Vec model"
   ]
  },
  {
   "cell_type": "code",
   "execution_count": 59,
   "metadata": {},
   "outputs": [],
   "source": [
    "x_train, x_test, y_train, y_test = train_test_split(padded_sequences, df.is_sarcastic , test_size = 0.2 , random_state = 187) \n",
    "x_train, x_val, y_train, y_val = train_test_split(x_train, y_train, test_size = 0.25 , random_state = 187)"
   ]
  },
  {
   "cell_type": "code",
   "execution_count": 60,
   "metadata": {},
   "outputs": [],
   "source": [
    "\n",
    "# Define the model architecture\n",
    "# Refactoring of Dennis Code with CHATGPT\n",
    "def build_model(hp):\n",
    "    model = keras.Sequential()\n",
    "\n",
    "    model.add(layers.Embedding(vocab_size, output_dim=100, weights=[embedding_vectors], trainable=True))\n",
    "\n",
    "    prev_units = hp.Int(\"prev_units\", min_value=8, max_value=96, step=2, default=96)\n",
    "\n",
    "    for i in range(hp.Int(\"num_layers\", 1, 3)):\n",
    "        for layer_type in [LSTM, GRU]:\n",
    "            curr_units = hp.Int(f\"units_{i}\", min_value=8, max_value=prev_units, step=2)\n",
    "            prev_units = curr_units\n",
    "\n",
    "            model.add(Bidirectional(layer_type(units=curr_units,\n",
    "                                               recurrent_dropout=hp.Float(f\"recurrent_dropout_{i}\", min_value=0.0, max_value=0.9, step=0.1),\n",
    "                                               dropout=hp.Float(f\"dropout_{i}\", min_value=0.0, max_value=0.9, step=0.1),\n",
    "                                               activation=hp.Choice(f\"activation_{i}\", values=[\"relu\", \"tanh\", \"gelu\"]),\n",
    "                                               return_sequences=True),\n",
    "                                               name=f\"bidirectional_{layer_type.__name__.lower()}_{i}\"))\n",
    "\n",
    "    learning_rate_tuned = hp.Float(\"lr\", min_value=1e-4, max_value=1e-3, sampling=\"log\")\n",
    "\n",
    "    model.add(layers.Dense(1, activation=\"sigmoid\", name=\"output\"))\n",
    "\n",
    "    model.compile(optimizer=keras.optimizers.Adam(learning_rate=learning_rate_tuned),\n",
    "                  loss=\"binary_crossentropy\",\n",
    "                  metrics=[\"accuracy\"])\n",
    "\n",
    "    return model\n",
    "\n",
    "\n",
    "\n",
    "\n",
    "\n"
   ]
  },
  {
   "cell_type": "code",
   "execution_count": 61,
   "metadata": {},
   "outputs": [],
   "source": [
    "#helper class so callback works with tuner (ChatGPT)\n",
    "class TerminationOnNoImprovement(keras.callbacks.Callback):\n",
    "    def __init__(self, patience=10, restore_best_weights=True):\n",
    "        super(TerminationOnNoImprovement, self).__init__()\n",
    "        self.patience = patience\n",
    "        self.restore_best_weights = restore_best_weights\n",
    "        self.best_weights = None\n",
    "        self.best_epoch = None\n",
    "        self.best_val_acc = None\n",
    "\n",
    "    def on_train_begin(self, logs=None):\n",
    "        self.best_weights = self.model.get_weights()\n",
    "        self.best_epoch = 0\n",
    "        self.best_val_acc = -float('inf')\n",
    "\n",
    "    def on_epoch_end(self, epoch, logs=None):\n",
    "        val_acc = logs.get('val_accuracy')\n",
    "        if val_acc > self.best_val_acc:\n",
    "            self.best_weights = self.model.get_weights()\n",
    "            self.best_epoch = epoch\n",
    "            self.best_val_acc = val_acc\n",
    "        elif epoch - self.best_epoch >= self.patience:\n",
    "            print(f'Epoch {epoch}: early stopping')\n",
    "            self.model.stop_training = True\n",
    "            if self.restore_best_weights:\n",
    "                print(f'Restored model weights from epoch {self.best_epoch}')\n",
    "                self.model.set_weights(self.best_weights)\n",
    "\n",
    "\n"
   ]
  },
  {
   "cell_type": "code",
   "execution_count": 62,
   "metadata": {},
   "outputs": [
    {
     "name": "stdout",
     "output_type": "stream",
     "text": [
      "INFO:tensorflow:Reloading Tuner from Tuner\\NLP_Tuner\\tuner0.json\n"
     ]
    },
    {
     "data": {
      "text/plain": [
       "\"\\nfor _ in range(len(batch_sizes)):\\n    #batch_size = random.choice(batch_sizes)\\n    #print(f'Batch size: {batch_size}')\\n    tuner.search(x_train, y_train, epochs=50, validation_data=(x_val, y_val), batch_size=128, callbacks=[TerminationOnNoImprovement()])\\n    trial_best_model = tuner.get_best_models(num_models=1)[0]\\n    trial_best_hparams = tuner.get_best_hyperparameters(num_trials=1)[0]\\n    trial_best_val_acc = tuner.get_best_trial('val_accuracy').score\\n\\n    if trial_best_val_acc > best_val_acc:\\n        best_batch_size = batch_size\\n        best_model = trial_best_model\\n        best_hparams = trial_best_hparams\\n        best_val_acc = trial_best_val_acc\\n        #plot model\\n        plot_model(best_model, to_file='best_model.png', show_shapes=True, show_layer_names=True)\\n        #write best model to file\\n        best_model.save('best_model.h5')\\n        #write best hyperparameters to file\\n        with open('best_hparams.json', 'w') as f:\\n            json.dump(best_hparams.values, f)\\n            \\n\\nprint(f'Best batch size: {best_batch_size}')\\nprint(f'Best validation accuracy: {best_val_acc}')\\nprint(f'Best hyperparameters: {best_hparams.values}')\\n\""
      ]
     },
     "execution_count": 62,
     "metadata": {},
     "output_type": "execute_result"
    }
   ],
   "source": [
    "tuner = RandomSearch(\n",
    "    build_model, objective='val_accuracy',\n",
    "    max_trials=100, executions_per_trial=1,\n",
    "    directory='Tuner',project_name='NLP_Tuner',seed=187\n",
    ")\n",
    "\n",
    "batch_sizes = [16,32, 64, 128, 256,512,1024,2048]\n",
    "\n",
    "\n",
    "best_batch_size = None; best_model = None; best_hparams = None; best_val_acc = -float('inf')\n",
    "'''\n",
    "for _ in range(len(batch_sizes)):\n",
    "    #batch_size = random.choice(batch_sizes)\n",
    "    #print(f'Batch size: {batch_size}')\n",
    "    tuner.search(x_train, y_train, epochs=50, validation_data=(x_val, y_val), batch_size=128, callbacks=[TerminationOnNoImprovement()])\n",
    "    trial_best_model = tuner.get_best_models(num_models=1)[0]\n",
    "    trial_best_hparams = tuner.get_best_hyperparameters(num_trials=1)[0]\n",
    "    trial_best_val_acc = tuner.get_best_trial('val_accuracy').score\n",
    "\n",
    "    if trial_best_val_acc > best_val_acc:\n",
    "        best_batch_size = batch_size\n",
    "        best_model = trial_best_model\n",
    "        best_hparams = trial_best_hparams\n",
    "        best_val_acc = trial_best_val_acc\n",
    "        #plot model\n",
    "        plot_model(best_model, to_file='best_model.png', show_shapes=True, show_layer_names=True)\n",
    "        #write best model to file\n",
    "        best_model.save('best_model.h5')\n",
    "        #write best hyperparameters to file\n",
    "        with open('best_hparams.json', 'w') as f:\n",
    "            json.dump(best_hparams.values, f)\n",
    "            \n",
    "\n",
    "print(f'Best batch size: {best_batch_size}')\n",
    "print(f'Best validation accuracy: {best_val_acc}')\n",
    "print(f'Best hyperparameters: {best_hparams.values}')\n",
    "'''\n",
    "\n"
   ]
  },
  {
   "cell_type": "code",
   "execution_count": 63,
   "metadata": {},
   "outputs": [],
   "source": [
    "from tensorflow.keras.layers import Embedding, Bidirectional, LSTM, GRU, Dense, Flatten\n",
    "from tensorflow.keras.models import Sequential\n",
    "#best model after 50 first trials\n",
    "#best val_accuracy 80.08%\n",
    "'''Value             |Best Value So Far |Hyperparameter\n",
    "    38                |22                |prev_units\n",
    "    3                 |2                 |num_layers\n",
    "    58                |60                |units_0\n",
    "    0.2               |0.4               |recurrent_dropout_0\n",
    "    0.5               |0.7               |dropout_0\n",
    "    tanh              |tanh              |activation_0\n",
    "    0.0066263         |0.00010899        |lr\n",
    "    8                 |16                |units_1\n",
    "    0.8               |0.6               |recurrent_dropout_1\n",
    "    0                 |0.8               |dropout_1\n",
    "    tanh              |tanh              |activation_1\n",
    "    8                 |8                 |units_2\n",
    "    0.8               |0.4               |recurrent_dropout_2\n",
    "    0.8               |0.6               |dropout_2\n",
    "    tanh              |gelu              |activation_2'''\n",
    "# Defining Neural Network\n",
    "model = Sequential()\n",
    "\n",
    "# Non-trainable embedding layer\n",
    "model.add(Embedding(vocab_size, output_dim=100, weights=[embedding_vectors], trainable=True))\n",
    "\n",
    "# LSTM \n",
    "model.add(Bidirectional(LSTM(units=8, activation='tanh', recurrent_dropout=0.4, dropout=0.7, return_sequences=True)))\n",
    "model.add(Bidirectional(GRU(units= 8, activation='tanh', recurrent_dropout=0.6, dropout=0.8, return_sequences=True)))\n",
    "\n",
    "# Output layer\n",
    "model.add(Dense(1, activation='tanh'))\n",
    "#model.add(Flatten())  # Convert 2D tensor to 1D tensor\n",
    "model.compile(optimizer=keras.optimizers.Adam(learning_rate=0.1), loss='binary_crossentropy', metrics=['acc'])\n",
    "\n"
   ]
  },
  {
   "cell_type": "code",
   "execution_count": 64,
   "metadata": {},
   "outputs": [
    {
     "name": "stdout",
     "output_type": "stream",
     "text": [
      "Epoch 1/1000\n",
      "1/9 [==>...........................] - ETA: 1:35 - loss: 6.1214 - acc: 0.5263"
     ]
    },
    {
     "ename": "KeyboardInterrupt",
     "evalue": "",
     "output_type": "error",
     "traceback": [
      "\u001b[1;31m---------------------------------------------------------------------------\u001b[0m",
      "\u001b[1;31mKeyboardInterrupt\u001b[0m                         Traceback (most recent call last)",
      "Cell \u001b[1;32mIn[64], line 4\u001b[0m\n\u001b[0;32m      2\u001b[0m \u001b[39mfrom\u001b[39;00m \u001b[39mkeras\u001b[39;00m\u001b[39m.\u001b[39;00m\u001b[39mcallbacks\u001b[39;00m \u001b[39mimport\u001b[39;00m EarlyStopping\n\u001b[0;32m      3\u001b[0m early_stopping \u001b[39m=\u001b[39m EarlyStopping(monitor\u001b[39m=\u001b[39m\u001b[39m'\u001b[39m\u001b[39mval_loss\u001b[39m\u001b[39m'\u001b[39m, patience\u001b[39m=\u001b[39m\u001b[39m2\u001b[39m, verbose\u001b[39m=\u001b[39m\u001b[39m1\u001b[39m, mode\u001b[39m=\u001b[39m\u001b[39m'\u001b[39m\u001b[39mauto\u001b[39m\u001b[39m'\u001b[39m)\n\u001b[1;32m----> 4\u001b[0m history \u001b[39m=\u001b[39m model\u001b[39m.\u001b[39;49mfit(x_train, y_train, batch_size \u001b[39m=\u001b[39;49m \u001b[39m2056\u001b[39;49m , validation_data \u001b[39m=\u001b[39;49m (x_val,y_val) , epochs \u001b[39m=\u001b[39;49m \u001b[39m1000\u001b[39;49m, callbacks\u001b[39m=\u001b[39;49m[early_stopping])\n",
      "File \u001b[1;32mc:\\Users\\benit\\anaconda3\\envs\\NLP\\lib\\site-packages\\keras\\utils\\traceback_utils.py:65\u001b[0m, in \u001b[0;36mfilter_traceback.<locals>.error_handler\u001b[1;34m(*args, **kwargs)\u001b[0m\n\u001b[0;32m     63\u001b[0m filtered_tb \u001b[39m=\u001b[39m \u001b[39mNone\u001b[39;00m\n\u001b[0;32m     64\u001b[0m \u001b[39mtry\u001b[39;00m:\n\u001b[1;32m---> 65\u001b[0m     \u001b[39mreturn\u001b[39;00m fn(\u001b[39m*\u001b[39margs, \u001b[39m*\u001b[39m\u001b[39m*\u001b[39mkwargs)\n\u001b[0;32m     66\u001b[0m \u001b[39mexcept\u001b[39;00m \u001b[39mException\u001b[39;00m \u001b[39mas\u001b[39;00m e:\n\u001b[0;32m     67\u001b[0m     filtered_tb \u001b[39m=\u001b[39m _process_traceback_frames(e\u001b[39m.\u001b[39m__traceback__)\n",
      "File \u001b[1;32mc:\\Users\\benit\\anaconda3\\envs\\NLP\\lib\\site-packages\\keras\\engine\\training.py:1564\u001b[0m, in \u001b[0;36mModel.fit\u001b[1;34m(self, x, y, batch_size, epochs, verbose, callbacks, validation_split, validation_data, shuffle, class_weight, sample_weight, initial_epoch, steps_per_epoch, validation_steps, validation_batch_size, validation_freq, max_queue_size, workers, use_multiprocessing)\u001b[0m\n\u001b[0;32m   1556\u001b[0m \u001b[39mwith\u001b[39;00m tf\u001b[39m.\u001b[39mprofiler\u001b[39m.\u001b[39mexperimental\u001b[39m.\u001b[39mTrace(\n\u001b[0;32m   1557\u001b[0m     \u001b[39m\"\u001b[39m\u001b[39mtrain\u001b[39m\u001b[39m\"\u001b[39m,\n\u001b[0;32m   1558\u001b[0m     epoch_num\u001b[39m=\u001b[39mepoch,\n\u001b[1;32m   (...)\u001b[0m\n\u001b[0;32m   1561\u001b[0m     _r\u001b[39m=\u001b[39m\u001b[39m1\u001b[39m,\n\u001b[0;32m   1562\u001b[0m ):\n\u001b[0;32m   1563\u001b[0m     callbacks\u001b[39m.\u001b[39mon_train_batch_begin(step)\n\u001b[1;32m-> 1564\u001b[0m     tmp_logs \u001b[39m=\u001b[39m \u001b[39mself\u001b[39;49m\u001b[39m.\u001b[39;49mtrain_function(iterator)\n\u001b[0;32m   1565\u001b[0m     \u001b[39mif\u001b[39;00m data_handler\u001b[39m.\u001b[39mshould_sync:\n\u001b[0;32m   1566\u001b[0m         context\u001b[39m.\u001b[39masync_wait()\n",
      "File \u001b[1;32mc:\\Users\\benit\\anaconda3\\envs\\NLP\\lib\\site-packages\\tensorflow\\python\\util\\traceback_utils.py:150\u001b[0m, in \u001b[0;36mfilter_traceback.<locals>.error_handler\u001b[1;34m(*args, **kwargs)\u001b[0m\n\u001b[0;32m    148\u001b[0m filtered_tb \u001b[39m=\u001b[39m \u001b[39mNone\u001b[39;00m\n\u001b[0;32m    149\u001b[0m \u001b[39mtry\u001b[39;00m:\n\u001b[1;32m--> 150\u001b[0m   \u001b[39mreturn\u001b[39;00m fn(\u001b[39m*\u001b[39margs, \u001b[39m*\u001b[39m\u001b[39m*\u001b[39mkwargs)\n\u001b[0;32m    151\u001b[0m \u001b[39mexcept\u001b[39;00m \u001b[39mException\u001b[39;00m \u001b[39mas\u001b[39;00m e:\n\u001b[0;32m    152\u001b[0m   filtered_tb \u001b[39m=\u001b[39m _process_traceback_frames(e\u001b[39m.\u001b[39m__traceback__)\n",
      "File \u001b[1;32mc:\\Users\\benit\\anaconda3\\envs\\NLP\\lib\\site-packages\\tensorflow\\python\\eager\\def_function.py:915\u001b[0m, in \u001b[0;36mFunction.__call__\u001b[1;34m(self, *args, **kwds)\u001b[0m\n\u001b[0;32m    912\u001b[0m compiler \u001b[39m=\u001b[39m \u001b[39m\"\u001b[39m\u001b[39mxla\u001b[39m\u001b[39m\"\u001b[39m \u001b[39mif\u001b[39;00m \u001b[39mself\u001b[39m\u001b[39m.\u001b[39m_jit_compile \u001b[39melse\u001b[39;00m \u001b[39m\"\u001b[39m\u001b[39mnonXla\u001b[39m\u001b[39m\"\u001b[39m\n\u001b[0;32m    914\u001b[0m \u001b[39mwith\u001b[39;00m OptionalXlaContext(\u001b[39mself\u001b[39m\u001b[39m.\u001b[39m_jit_compile):\n\u001b[1;32m--> 915\u001b[0m   result \u001b[39m=\u001b[39m \u001b[39mself\u001b[39m\u001b[39m.\u001b[39m_call(\u001b[39m*\u001b[39margs, \u001b[39m*\u001b[39m\u001b[39m*\u001b[39mkwds)\n\u001b[0;32m    917\u001b[0m new_tracing_count \u001b[39m=\u001b[39m \u001b[39mself\u001b[39m\u001b[39m.\u001b[39mexperimental_get_tracing_count()\n\u001b[0;32m    918\u001b[0m without_tracing \u001b[39m=\u001b[39m (tracing_count \u001b[39m==\u001b[39m new_tracing_count)\n",
      "File \u001b[1;32mc:\\Users\\benit\\anaconda3\\envs\\NLP\\lib\\site-packages\\tensorflow\\python\\eager\\def_function.py:947\u001b[0m, in \u001b[0;36mFunction._call\u001b[1;34m(self, *args, **kwds)\u001b[0m\n\u001b[0;32m    944\u001b[0m   \u001b[39mself\u001b[39m\u001b[39m.\u001b[39m_lock\u001b[39m.\u001b[39mrelease()\n\u001b[0;32m    945\u001b[0m   \u001b[39m# In this case we have created variables on the first call, so we run the\u001b[39;00m\n\u001b[0;32m    946\u001b[0m   \u001b[39m# defunned version which is guaranteed to never create variables.\u001b[39;00m\n\u001b[1;32m--> 947\u001b[0m   \u001b[39mreturn\u001b[39;00m \u001b[39mself\u001b[39m\u001b[39m.\u001b[39m_stateless_fn(\u001b[39m*\u001b[39margs, \u001b[39m*\u001b[39m\u001b[39m*\u001b[39mkwds)  \u001b[39m# pylint: disable=not-callable\u001b[39;00m\n\u001b[0;32m    948\u001b[0m \u001b[39melif\u001b[39;00m \u001b[39mself\u001b[39m\u001b[39m.\u001b[39m_stateful_fn \u001b[39mis\u001b[39;00m \u001b[39mnot\u001b[39;00m \u001b[39mNone\u001b[39;00m:\n\u001b[0;32m    949\u001b[0m   \u001b[39m# Release the lock early so that multiple threads can perform the call\u001b[39;00m\n\u001b[0;32m    950\u001b[0m   \u001b[39m# in parallel.\u001b[39;00m\n\u001b[0;32m    951\u001b[0m   \u001b[39mself\u001b[39m\u001b[39m.\u001b[39m_lock\u001b[39m.\u001b[39mrelease()\n",
      "File \u001b[1;32mc:\\Users\\benit\\anaconda3\\envs\\NLP\\lib\\site-packages\\tensorflow\\python\\eager\\function.py:2496\u001b[0m, in \u001b[0;36mFunction.__call__\u001b[1;34m(self, *args, **kwargs)\u001b[0m\n\u001b[0;32m   2493\u001b[0m \u001b[39mwith\u001b[39;00m \u001b[39mself\u001b[39m\u001b[39m.\u001b[39m_lock:\n\u001b[0;32m   2494\u001b[0m   (graph_function,\n\u001b[0;32m   2495\u001b[0m    filtered_flat_args) \u001b[39m=\u001b[39m \u001b[39mself\u001b[39m\u001b[39m.\u001b[39m_maybe_define_function(args, kwargs)\n\u001b[1;32m-> 2496\u001b[0m \u001b[39mreturn\u001b[39;00m graph_function\u001b[39m.\u001b[39;49m_call_flat(\n\u001b[0;32m   2497\u001b[0m     filtered_flat_args, captured_inputs\u001b[39m=\u001b[39;49mgraph_function\u001b[39m.\u001b[39;49mcaptured_inputs)\n",
      "File \u001b[1;32mc:\\Users\\benit\\anaconda3\\envs\\NLP\\lib\\site-packages\\tensorflow\\python\\eager\\function.py:1862\u001b[0m, in \u001b[0;36mConcreteFunction._call_flat\u001b[1;34m(self, args, captured_inputs, cancellation_manager)\u001b[0m\n\u001b[0;32m   1858\u001b[0m possible_gradient_type \u001b[39m=\u001b[39m gradients_util\u001b[39m.\u001b[39mPossibleTapeGradientTypes(args)\n\u001b[0;32m   1859\u001b[0m \u001b[39mif\u001b[39;00m (possible_gradient_type \u001b[39m==\u001b[39m gradients_util\u001b[39m.\u001b[39mPOSSIBLE_GRADIENT_TYPES_NONE\n\u001b[0;32m   1860\u001b[0m     \u001b[39mand\u001b[39;00m executing_eagerly):\n\u001b[0;32m   1861\u001b[0m   \u001b[39m# No tape is watching; skip to running the function.\u001b[39;00m\n\u001b[1;32m-> 1862\u001b[0m   \u001b[39mreturn\u001b[39;00m \u001b[39mself\u001b[39m\u001b[39m.\u001b[39m_build_call_outputs(\u001b[39mself\u001b[39;49m\u001b[39m.\u001b[39;49m_inference_function\u001b[39m.\u001b[39;49mcall(\n\u001b[0;32m   1863\u001b[0m       ctx, args, cancellation_manager\u001b[39m=\u001b[39;49mcancellation_manager))\n\u001b[0;32m   1864\u001b[0m forward_backward \u001b[39m=\u001b[39m \u001b[39mself\u001b[39m\u001b[39m.\u001b[39m_select_forward_and_backward_functions(\n\u001b[0;32m   1865\u001b[0m     args,\n\u001b[0;32m   1866\u001b[0m     possible_gradient_type,\n\u001b[0;32m   1867\u001b[0m     executing_eagerly)\n\u001b[0;32m   1868\u001b[0m forward_function, args_with_tangents \u001b[39m=\u001b[39m forward_backward\u001b[39m.\u001b[39mforward()\n",
      "File \u001b[1;32mc:\\Users\\benit\\anaconda3\\envs\\NLP\\lib\\site-packages\\tensorflow\\python\\eager\\function.py:499\u001b[0m, in \u001b[0;36m_EagerDefinedFunction.call\u001b[1;34m(self, ctx, args, cancellation_manager)\u001b[0m\n\u001b[0;32m    497\u001b[0m \u001b[39mwith\u001b[39;00m _InterpolateFunctionError(\u001b[39mself\u001b[39m):\n\u001b[0;32m    498\u001b[0m   \u001b[39mif\u001b[39;00m cancellation_manager \u001b[39mis\u001b[39;00m \u001b[39mNone\u001b[39;00m:\n\u001b[1;32m--> 499\u001b[0m     outputs \u001b[39m=\u001b[39m execute\u001b[39m.\u001b[39;49mexecute(\n\u001b[0;32m    500\u001b[0m         \u001b[39mstr\u001b[39;49m(\u001b[39mself\u001b[39;49m\u001b[39m.\u001b[39;49msignature\u001b[39m.\u001b[39;49mname),\n\u001b[0;32m    501\u001b[0m         num_outputs\u001b[39m=\u001b[39;49m\u001b[39mself\u001b[39;49m\u001b[39m.\u001b[39;49m_num_outputs,\n\u001b[0;32m    502\u001b[0m         inputs\u001b[39m=\u001b[39;49margs,\n\u001b[0;32m    503\u001b[0m         attrs\u001b[39m=\u001b[39;49mattrs,\n\u001b[0;32m    504\u001b[0m         ctx\u001b[39m=\u001b[39;49mctx)\n\u001b[0;32m    505\u001b[0m   \u001b[39melse\u001b[39;00m:\n\u001b[0;32m    506\u001b[0m     outputs \u001b[39m=\u001b[39m execute\u001b[39m.\u001b[39mexecute_with_cancellation(\n\u001b[0;32m    507\u001b[0m         \u001b[39mstr\u001b[39m(\u001b[39mself\u001b[39m\u001b[39m.\u001b[39msignature\u001b[39m.\u001b[39mname),\n\u001b[0;32m    508\u001b[0m         num_outputs\u001b[39m=\u001b[39m\u001b[39mself\u001b[39m\u001b[39m.\u001b[39m_num_outputs,\n\u001b[1;32m   (...)\u001b[0m\n\u001b[0;32m    511\u001b[0m         ctx\u001b[39m=\u001b[39mctx,\n\u001b[0;32m    512\u001b[0m         cancellation_manager\u001b[39m=\u001b[39mcancellation_manager)\n",
      "File \u001b[1;32mc:\\Users\\benit\\anaconda3\\envs\\NLP\\lib\\site-packages\\tensorflow\\python\\eager\\execute.py:54\u001b[0m, in \u001b[0;36mquick_execute\u001b[1;34m(op_name, num_outputs, inputs, attrs, ctx, name)\u001b[0m\n\u001b[0;32m     52\u001b[0m \u001b[39mtry\u001b[39;00m:\n\u001b[0;32m     53\u001b[0m   ctx\u001b[39m.\u001b[39mensure_initialized()\n\u001b[1;32m---> 54\u001b[0m   tensors \u001b[39m=\u001b[39m pywrap_tfe\u001b[39m.\u001b[39;49mTFE_Py_Execute(ctx\u001b[39m.\u001b[39;49m_handle, device_name, op_name,\n\u001b[0;32m     55\u001b[0m                                       inputs, attrs, num_outputs)\n\u001b[0;32m     56\u001b[0m \u001b[39mexcept\u001b[39;00m core\u001b[39m.\u001b[39m_NotOkStatusException \u001b[39mas\u001b[39;00m e:\n\u001b[0;32m     57\u001b[0m   \u001b[39mif\u001b[39;00m name \u001b[39mis\u001b[39;00m \u001b[39mnot\u001b[39;00m \u001b[39mNone\u001b[39;00m:\n",
      "\u001b[1;31mKeyboardInterrupt\u001b[0m: "
     ]
    }
   ],
   "source": [
    "\n",
    "#early stopping\n",
    "from keras.callbacks import EarlyStopping\n",
    "early_stopping = EarlyStopping(monitor='val_loss', patience=2, verbose=1, mode='auto')\n",
    "history = model.fit(x_train, y_train, batch_size = 2056 , validation_data = (x_val,y_val) , epochs = 1000, callbacks=[early_stopping])\n",
    "\n"
   ]
  },
  {
   "cell_type": "code",
   "execution_count": null,
   "metadata": {},
   "outputs": [
    {
     "name": "stdout",
     "output_type": "stream",
     "text": [
      "535/535 [==============================] - 13s 25ms/step - loss: 0.0160 - acc: 0.9953\n",
      "Accuracy of the model on Training Data is -  99.53258633613586\n",
      "179/179 [==============================] - 4s 25ms/step - loss: 1.1740 - acc: 0.7877\n",
      "Accuracy of the model on Testing Data is -  78.77476215362549\n",
      "179/179 [==============================] - 5s 25ms/step - loss: 1.1243 - acc: 0.8013\n",
      "Accuracy of the model on Testing Data is -  80.12540340423584\n"
     ]
    }
   ],
   "source": [
    "print(\"Accuracy of the model on Training Data is - \" , model.evaluate(x_train,y_train)[1]*100)\n",
    "print(\"Accuracy of the model on Testing Data is - \" , model.evaluate(x_val,y_val)[1]*100)\n",
    "print(\"Accuracy of the model on Testing Data is - \" , model.evaluate(x_test,y_test)[1]*100)"
   ]
  },
  {
   "cell_type": "code",
   "execution_count": null,
   "metadata": {},
   "outputs": [
    {
     "data": {
      "image/png": "[encoded data removed]",
      "text/plain": [
       "<Figure size 640x480 with 1 Axes>"
      ]
     },
     "metadata": {},
     "output_type": "display_data"
    }
   ],
   "source": [
    "#plot accuracy and loss\n",
    "plt.plot(history.history['acc'])\n",
    "plt.plot(history.history['val_acc'])\n",
    "plt.title('model accuracy')\n",
    "plt.ylabel('accuracy')\n",
    "plt.xlabel('epoch')\n",
    "plt.legend(['train', 'valid'], loc='upper left')\n",
    "plt.show()\n"
   ]
  },
  {
   "attachments": {},
   "cell_type": "markdown",
   "metadata": {},
   "source": [
    "## Maschine Learning"
   ]
  },
  {
   "cell_type": "code",
   "execution_count": 65,
   "metadata": {},
   "outputs": [],
   "source": [
    "def evaluate_models(x_train_vec, y_train_ml, x_val_vec, y_val_ml, x_test_vec, y_test_ml):\n",
    "    # Define the models to be compared\n",
    "    models = [\n",
    "\n",
    "        ('Ridge Classifier', RidgeClassifier(random_state=187)),\n",
    "        ('Multinomial Naive Bayes', MultinomialNB()),\n",
    "        ('Bernoulli Naive Bayes', BernoulliNB()),\n",
    "        ('Logistic Regression', LogisticRegression(random_state=187, max_iter=10000,n_jobs=-1)),\n",
    "        ('Decision Tree', DecisionTreeClassifier(random_state=187)),\n",
    "        ('Gradient Boosting', GradientBoostingClassifier(random_state=187)),\n",
    "        ('XGBoost', XGBClassifier(random_state=187,n_jobs=-1)),\n",
    "        ('LightGBM', LGBMClassifier(random_state=187,n_jobs=-1)),\n",
    "        ('SVM', SVC(kernel='rbf',random_state=187)),\n",
    "        ('LinearSVC', LinearSVC(random_state=187)),\n",
    "        ('ExtraTrees', ExtraTreesClassifier(random_state=187,n_jobs=-1)),\n",
    "        ('PassiveAggressive', PassiveAggressiveClassifier(random_state=187, n_jobs=-1))\n",
    "        \n",
    "    ]\n",
    "\n",
    "    # Create an empty dataframe to store the results\n",
    "    results_df = pd.DataFrame(columns=['Model', 'Train Score', 'Validation Score', 'Test Score'])\n",
    "\n",
    "    # Evaluate the models using 5-fold cross-validation\n",
    "    kfold = KFold(n_splits=5, random_state=187, shuffle=True)\n",
    "    for name, model in models:\n",
    "        cv_results = cross_val_score(model, x_train_vec, y_train_ml, cv=kfold, scoring='accuracy', n_jobs=-1)\n",
    "        train_score = cv_results.mean()\n",
    "        validation_score = model.fit(x_train_vec, y_train_ml).score(x_val_vec, y_val_ml)\n",
    "        test_score = model.fit(x_train_vec, y_train_ml).score(x_test_vec, y_test_ml)\n",
    "        #predict\n",
    "        y_pred = model.predict(x_val_vec)\n",
    "        #print classification report\n",
    "        print(classification_report(y_val_ml, y_pred))\n",
    "        results_df = pd.concat([results_df, pd.DataFrame([[name, train_score, validation_score, test_score]],\n",
    "                                                          columns=['Model', 'Train Score', 'Validation Score', 'Test Score'])],\n",
    "                               ignore_index=True)\n",
    "        print(f\"{name}: Train Score: {train_score:.2f}, Validation Score: {validation_score:.2f}, Test Score: {test_score:.2f}\")\n",
    "\n",
    "    # Return the results dataframe\n",
    "    return results_df\n"
   ]
  },
  {
   "cell_type": "code",
   "execution_count": 67,
   "metadata": {},
   "outputs": [
    {
     "name": "stdout",
     "output_type": "stream",
     "text": [
      "              precision    recall  f1-score   support\n",
      "\n",
      "           0       0.79      0.81      0.80      2266\n",
      "           1       0.78      0.76      0.77      2010\n",
      "\n",
      "    accuracy                           0.78      4276\n",
      "   macro avg       0.78      0.78      0.78      4276\n",
      "weighted avg       0.78      0.78      0.78      4276\n",
      "\n",
      "Ridge Classifier: Train Score: 0.79, Validation Score: 0.78, Test Score: 0.78\n",
      "              precision    recall  f1-score   support\n",
      "\n",
      "           0       0.78      0.84      0.81      2266\n",
      "           1       0.80      0.73      0.77      2010\n",
      "\n",
      "    accuracy                           0.79      4276\n",
      "   macro avg       0.79      0.79      0.79      4276\n",
      "weighted avg       0.79      0.79      0.79      4276\n",
      "\n",
      "Multinomial Naive Bayes: Train Score: 0.79, Validation Score: 0.79, Test Score: 0.79\n",
      "              precision    recall  f1-score   support\n",
      "\n",
      "           0       0.53      1.00      0.69      2266\n",
      "           1       1.00      0.00      0.01      2010\n",
      "\n",
      "    accuracy                           0.53      4276\n",
      "   macro avg       0.77      0.50      0.35      4276\n",
      "weighted avg       0.75      0.53      0.37      4276\n",
      "\n",
      "Bernoulli Naive Bayes: Train Score: 0.52, Validation Score: 0.53, Test Score: 0.53\n",
      "              precision    recall  f1-score   support\n",
      "\n",
      "           0       0.77      0.81      0.79      2266\n",
      "           1       0.77      0.73      0.75      2010\n",
      "\n",
      "    accuracy                           0.77      4276\n",
      "   macro avg       0.77      0.77      0.77      4276\n",
      "weighted avg       0.77      0.77      0.77      4276\n",
      "\n",
      "Logistic Regression: Train Score: 0.78, Validation Score: 0.77, Test Score: 0.78\n",
      "              precision    recall  f1-score   support\n",
      "\n",
      "           0       0.74      0.70      0.72      2266\n",
      "           1       0.68      0.72      0.70      2010\n",
      "\n",
      "    accuracy                           0.71      4276\n",
      "   macro avg       0.71      0.71      0.71      4276\n",
      "weighted avg       0.71      0.71      0.71      4276\n",
      "\n",
      "Decision Tree: Train Score: 0.72, Validation Score: 0.71, Test Score: 0.71\n"
     ]
    }
   ],
   "source": [
    "result_count= evaluate_models(X_train_binary, y_train_ml, X_val_binary, y_val_ml, X_test_binary, y_test_ml)\n",
    "\n",
    "result_TFID= evaluate_models(x_train_vec, y_train_ml, x_val_vec, y_val_ml, x_test_vec, y_test_ml)\n",
    "\n",
    "result_hash = evaluate_models(train_x_hashing, y_train_ml, valid_x_hashing, y_val_ml, test_x_hashing, y_test_ml)"
   ]
  },
  {
   "cell_type": "code",
   "execution_count": null,
   "metadata": {},
   "outputs": [],
   "source": [
    "def plot_model_scores(results_df, title):\n",
    "    # Sort results dataframe by test score\n",
    "    results_df = results_df.sort_values(by='Test Score', ascending=False)\n",
    "\n",
    "    # Plot bar chart of model scores\n",
    "    results_df.plot(x='Model', y=['Train Score', 'Validation Score', 'Test Score'], kind='bar', figsize=(15, 5), title=title)\n",
    "    plt.ylim(0.5, 1)\n",
    "    plt.yticks(np.arange(0, 1.1, step=0.1))\n",
    "    plt.grid(axis='y')\n",
    "    plt.grid(axis='x')\n",
    "    plt.show()\n"
   ]
  },
  {
   "cell_type": "code",
   "execution_count": null,
   "metadata": {},
   "outputs": [
    {
     "data": {
      "image/png": "[encoded data removed]",
      "text/plain": [
       "<Figure size 1500x500 with 1 Axes>"
      ]
     },
     "metadata": {},
     "output_type": "display_data"
    },
    {
     "ename": "NameError",
     "evalue": "name 'result_count' is not defined",
     "output_type": "error",
     "traceback": [
      "\u001b[1;31m---------------------------------------------------------------------------\u001b[0m",
      "\u001b[1;31mNameError\u001b[0m                                 Traceback (most recent call last)",
      "Cell \u001b[1;32mIn[57], line 2\u001b[0m\n\u001b[0;32m      1\u001b[0m plot_model_scores(result_TFID, \u001b[39m'\u001b[39m\u001b[39mTF-IDF Vectorizer\u001b[39m\u001b[39m'\u001b[39m)\n\u001b[1;32m----> 2\u001b[0m plot_model_scores(result_count, \u001b[39m'\u001b[39m\u001b[39mCount Vectorizer\u001b[39m\u001b[39m'\u001b[39m)\n\u001b[0;32m      3\u001b[0m plot_model_scores(result_hash, \u001b[39m'\u001b[39m\u001b[39mHashing Vectorizer\u001b[39m\u001b[39m'\u001b[39m)\n",
      "\u001b[1;31mNameError\u001b[0m: name 'result_count' is not defined"
     ]
    }
   ],
   "source": [
    "plot_model_scores(result_TFID, 'TF-IDF Vectorizer')\n",
    "plot_model_scores(result_count, 'Count Vectorizer')\n",
    "plot_model_scores(result_hash, 'Hashing Vectorizer')"
   ]
  },
  {
   "cell_type": "code",
   "execution_count": null,
   "metadata": {},
   "outputs": [],
   "source": []
  }
 ],
 "metadata": {
  "kernelspec": {
   "display_name": "tf",
   "language": "python",
   "name": "python3"
  },
  "language_info": {
   "codemirror_mode": {
    "name": "ipython",
    "version": 3
   },
   "file_extension": ".py",
   "mimetype": "text/x-python",
   "name": "python",
   "nbconvert_exporter": "python",
   "pygments_lexer": "ipython3",
   "version": "3.10.10"
  },
  "orig_nbformat": 4
 },
 "nbformat": 4,
 "nbformat_minor": 2
}
